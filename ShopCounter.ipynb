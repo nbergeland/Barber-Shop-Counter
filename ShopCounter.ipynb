{
 "cells": [
  {
   "cell_type": "code",
   "execution_count": 9,
   "id": "d8bd0ddf-45ee-4395-bf87-e0767a6b4883",
   "metadata": {},
   "outputs": [
    {
     "name": "stdout",
     "output_type": "stream",
     "text": [
      "Total number of barbershops in the Minneapolis-St. Paul metro area: 60\n"
     ]
    }
   ],
   "source": [
    "import googlemaps\n",
    "import time\n",
    "\n",
    "# Set Google Maps API Key\n",
    "API_KEY = 'YOUR_API_HERE'\n",
    "\n",
    "# Initialize the Google Maps client\n",
    "gmaps = googlemaps.Client(key=API_KEY)\n",
    "\n",
    "# Coordinates for Minneapolis-St. Paul metro area\n",
    "location = (44.9778, -93.2650)  # Approximate central location for Minneapolis\n",
    "\n",
    "# Define the search radius in meters (you can adjust this as needed)\n",
    "radius = 50000  # 50 km\n",
    "\n",
    "# Function to count barbershops\n",
    "def count_barbershops(location, radius):\n",
    "    barbershops_count = 0\n",
    "    next_page_token = None\n",
    "\n",
    "    while True:\n",
    "        if next_page_token:\n",
    "            places_result = gmaps.places_nearby(\n",
    "                location=location,\n",
    "                radius=radius,\n",
    "                keyword='barbershop',\n",
    "                page_token=next_page_token\n",
    "            )\n",
    "        else:\n",
    "            places_result = gmaps.places_nearby(\n",
    "                location=location,\n",
    "                radius=radius,\n",
    "                keyword='barbershop'\n",
    "            )\n",
    "\n",
    "        barbershops_count += len(places_result['results'])\n",
    "\n",
    "        next_page_token = places_result.get('next_page_token')\n",
    "        if not next_page_token:\n",
    "            break\n",
    "\n",
    "        time.sleep(2)  # Pause to respect API rate limits\n",
    "\n",
    "    return barbershops_count\n",
    "\n",
    "# Count the barbershops\n",
    "barbershops_count = count_barbershops(location, radius)\n",
    "print(f'Total number of barbershops in the Minneapolis-St. Paul metro area: {barbershops_count}')"
   ]
  }
 ],
 "metadata": {
  "kernelspec": {
   "display_name": "Python 3 (ipykernel)",
   "language": "python",
   "name": "python3"
  },
  "language_info": {
   "codemirror_mode": {
    "name": "ipython",
    "version": 3
   },
   "file_extension": ".py",
   "mimetype": "text/x-python",
   "name": "python",
   "nbconvert_exporter": "python",
   "pygments_lexer": "ipython3",
   "version": "3.12.3"
  }
 },
 "nbformat": 4,
 "nbformat_minor": 5
}
